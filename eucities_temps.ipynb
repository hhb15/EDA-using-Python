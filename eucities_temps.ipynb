{
 "cells": [
  {
   "cell_type": "markdown",
   "id": "d2e44577-9beb-4d2e-b3d5-78edb6d6ddc4",
   "metadata": {},
   "source": [
    "### Problem 1 - EU Cities Temperatures Dataset"
   ]
  },
  {
   "cell_type": "code",
   "execution_count": 1,
   "id": "90257ca4-e0cc-490c-a292-6a81d536dc25",
   "metadata": {},
   "outputs": [],
   "source": [
    "import pandas as pd"
   ]
  },
  {
   "cell_type": "code",
   "execution_count": 2,
   "id": "a76759cd-70a8-46e2-bf75-02a117803551",
   "metadata": {},
   "outputs": [],
   "source": [
    "import matplotlib.pyplot as plt"
   ]
  },
  {
   "cell_type": "code",
   "execution_count": 3,
   "id": "8d6c3a10-95f8-49d5-9b5e-819ea9bd1a9b",
   "metadata": {},
   "outputs": [],
   "source": [
    "import numpy as np"
   ]
  },
  {
   "cell_type": "markdown",
   "id": "efffd574-9cf6-4bfb-8516-b7d6bf6e0aaa",
   "metadata": {},
   "source": [
    "#### Preprocessing/Analysis"
   ]
  },
  {
   "cell_type": "code",
   "execution_count": 4,
   "id": "9649f95d-8a0d-4652-b992-57d31180190a",
   "metadata": {},
   "outputs": [
    {
     "name": "stdout",
     "output_type": "stream",
     "text": [
      "          city         country  population   EU coastline  latitude  \\\n",
      "0      Elbasan         Albania        2.90   no       yes     41.12   \n",
      "1      Andorra         Andorra        0.07   no        no     42.50   \n",
      "2    Innsbruck         Austria        8.57  yes        no       NaN   \n",
      "3         Graz         Austria        8.57  yes        no     47.08   \n",
      "4         Linz         Austria        8.57  yes        no     48.32   \n",
      "..         ...             ...         ...  ...       ...       ...   \n",
      "208  Edinburgh  United Kingdom       65.11  yes       yes     55.95   \n",
      "209     Exeter  United Kingdom       65.11  yes       yes     50.70   \n",
      "210  Inverness  United Kingdom       65.11  yes       yes       NaN   \n",
      "211    Glasgow  United Kingdom       65.11  yes       yes     55.87   \n",
      "212    Swansea  United Kingdom       65.11  yes       yes     51.63   \n",
      "\n",
      "     longitude  temperature  \n",
      "0        20.08        15.18  \n",
      "1         1.52          NaN  \n",
      "2        11.41         4.54  \n",
      "3          NaN         6.91  \n",
      "4        14.29         6.79  \n",
      "..         ...          ...  \n",
      "208        NaN          NaN  \n",
      "209      -3.53        10.14  \n",
      "210      -4.23         8.00  \n",
      "211      -4.25         8.60  \n",
      "212      -3.95         9.73  \n",
      "\n",
      "[213 rows x 8 columns]\n"
     ]
    }
   ],
   "source": [
    "# reading the data from the csv file\n",
    "data = pd.read_csv(\"EuCitiesTemperatures.csv\")\n",
    "print(data)"
   ]
  },
  {
   "cell_type": "code",
   "execution_count": 5,
   "id": "5ad5eb9e-a5e9-4fd8-a8eb-982e82193042",
   "metadata": {},
   "outputs": [
    {
     "name": "stdout",
     "output_type": "stream",
     "text": [
      "          city         country  population   EU coastline  latitude  \\\n",
      "0      Elbasan         Albania        2.90   no       yes     41.12   \n",
      "1      Andorra         Andorra        0.07   no        no     42.50   \n",
      "2    Innsbruck         Austria        8.57  yes        no       NaN   \n",
      "3         Graz         Austria        8.57  yes        no     47.08   \n",
      "4         Linz         Austria        8.57  yes        no     48.32   \n",
      "..         ...             ...         ...  ...       ...       ...   \n",
      "208  Edinburgh  United Kingdom       65.11  yes       yes     55.95   \n",
      "209     Exeter  United Kingdom       65.11  yes       yes     50.70   \n",
      "210  Inverness  United Kingdom       65.11  yes       yes       NaN   \n",
      "211    Glasgow  United Kingdom       65.11  yes       yes     55.87   \n",
      "212    Swansea  United Kingdom       65.11  yes       yes     51.63   \n",
      "\n",
      "     longitude  temperature  \n",
      "0        20.08        15.18  \n",
      "1         1.52          NaN  \n",
      "2        11.41         4.54  \n",
      "3          NaN         6.91  \n",
      "4        14.29         6.79  \n",
      "..         ...          ...  \n",
      "208        NaN          NaN  \n",
      "209      -3.53        10.14  \n",
      "210      -4.23         8.00  \n",
      "211      -4.25         8.60  \n",
      "212      -3.95         9.73  \n",
      "\n",
      "[213 rows x 8 columns]\n"
     ]
    }
   ],
   "source": [
    "# loading the data into a dataframe\n",
    "data = pd.DataFrame(data)\n",
    "print(data)"
   ]
  },
  {
   "cell_type": "markdown",
   "id": "c63749d2-c368-4b5b-bac8-b627513101d6",
   "metadata": {},
   "source": [
    "#### Part 1"
   ]
  },
  {
   "cell_type": "code",
   "execution_count": 7,
   "id": "4efb8b34-f8fa-4f98-8830-3daf57b18834",
   "metadata": {},
   "outputs": [
    {
     "name": "stdout",
     "output_type": "stream",
     "text": [
      "0      41.12\n",
      "1      42.50\n",
      "2      47.85\n",
      "3      47.08\n",
      "4      48.32\n",
      "       ...  \n",
      "208    55.95\n",
      "209    50.70\n",
      "210    53.55\n",
      "211    55.87\n",
      "212    51.63\n",
      "Name: latitude, Length: 213, dtype: float64\n"
     ]
    }
   ],
   "source": [
    "# finding the avg latitude values and filling in the missing ones\n",
    "data['latitude'] = data['latitude'].fillna(data.groupby('country')['latitude'].transform(lambda x: round(x.mean(), 2)))\n",
    "print(data['latitude'])"
   ]
  },
  {
   "cell_type": "code",
   "execution_count": 8,
   "id": "ee29696b-38d5-4273-92c4-d457575048e9",
   "metadata": {},
   "outputs": [
    {
     "name": "stdout",
     "output_type": "stream",
     "text": [
      "0      20.08\n",
      "1       1.52\n",
      "2      11.41\n",
      "3      14.02\n",
      "4      14.29\n",
      "       ...  \n",
      "208    -2.94\n",
      "209    -3.53\n",
      "210    -4.23\n",
      "211    -4.25\n",
      "212    -3.95\n",
      "Name: longitude, Length: 213, dtype: float64\n"
     ]
    }
   ],
   "source": [
    "# finding the avg longitude values and filling in the missing values\n",
    "data['longitude'] = data['longitude'].fillna(data.groupby('country')['longitude'].transform(lambda x: round(x.mean(), 2)))\n",
    "print(data['longitude'])"
   ]
  },
  {
   "cell_type": "markdown",
   "id": "31007df3-1d0e-43cd-8b23-64eaf897853d",
   "metadata": {},
   "source": [
    "#### Part 2"
   ]
  },
  {
   "cell_type": "code",
   "execution_count": 9,
   "id": "3a47d93c-623c-454b-a0b0-6a018529128d",
   "metadata": {},
   "outputs": [
    {
     "name": "stdout",
     "output_type": "stream",
     "text": [
      "           city  country\n",
      "0       Elbasan  Albania\n",
      "6        Vienna  Austria\n",
      "7         Minsk  Belarus\n",
      "8         Orsha  Belarus\n",
      "9         Pinsk  Belarus\n",
      "..          ...      ...\n",
      "165       Bursa   Turkey\n",
      "169      Edirne   Turkey\n",
      "183    Tekirdag   Turkey\n",
      "186  Chernivtsi  Ukraine\n",
      "193       Rivne  Ukraine\n",
      "\n",
      "[63 rows x 2 columns]\n"
     ]
    }
   ],
   "source": [
    "# getting the subset of cities and corresponding country\n",
    "subset = data[(data['latitude'].between(40, 60)) & (data['longitude'].between(15, 30))][['city', 'country']]\n",
    "print(subset)"
   ]
  },
  {
   "cell_type": "code",
   "execution_count": 10,
   "id": "55a300ba-0f95-405c-bcc8-69884131d02b",
   "metadata": {},
   "outputs": [
    {
     "name": "stdout",
     "output_type": "stream",
     "text": [
      "country\n",
      "Romania    9\n",
      "Poland     9\n",
      "Name: count, dtype: int64\n"
     ]
    }
   ],
   "source": [
    "# counting occurrences of each country and getting the countries with the max cities\n",
    "country_counts = subset['country'].value_counts()\n",
    "max_countries = country_counts[country_counts == country_counts.max()]\n",
    "print(max_countries)"
   ]
  },
  {
   "cell_type": "markdown",
   "id": "6b8eed09-54a1-4af8-b5e1-cdd4fc101a07",
   "metadata": {},
   "source": [
    "#### Part 3"
   ]
  },
  {
   "cell_type": "code",
   "execution_count": 11,
   "id": "2b967001-7365-4a45-aa95-d2cded8d9772",
   "metadata": {},
   "outputs": [
    {
     "name": "stdout",
     "output_type": "stream",
     "text": [
      "0       9.732000\n",
      "1       7.481538\n",
      "2       7.538333\n",
      "3       7.538333\n",
      "4       7.538333\n",
      "         ...    \n",
      "208    10.314494\n",
      "209    10.314494\n",
      "210    10.314494\n",
      "211    10.314494\n",
      "212    10.314494\n",
      "Name: temperature, Length: 213, dtype: float64\n"
     ]
    }
   ],
   "source": [
    "# getting the avg temperature based on the EU and coastline status \n",
    "avg_temps = data.groupby(['EU', 'coastline'])['temperature'].transform('mean')\n",
    "print(avg_temps)"
   ]
  },
  {
   "cell_type": "code",
   "execution_count": 12,
   "id": "19f6573c-f932-4bb2-a682-1e69c1c194f2",
   "metadata": {},
   "outputs": [
    {
     "name": "stdout",
     "output_type": "stream",
     "text": [
      "          city         country  population   EU coastline  latitude  \\\n",
      "0      Elbasan         Albania        2.90   no       yes     41.12   \n",
      "1      Andorra         Andorra        0.07   no        no     42.50   \n",
      "2    Innsbruck         Austria        8.57  yes        no     47.85   \n",
      "3         Graz         Austria        8.57  yes        no     47.08   \n",
      "4         Linz         Austria        8.57  yes        no     48.32   \n",
      "..         ...             ...         ...  ...       ...       ...   \n",
      "208  Edinburgh  United Kingdom       65.11  yes       yes     55.95   \n",
      "209     Exeter  United Kingdom       65.11  yes       yes     50.70   \n",
      "210  Inverness  United Kingdom       65.11  yes       yes     53.55   \n",
      "211    Glasgow  United Kingdom       65.11  yes       yes     55.87   \n",
      "212    Swansea  United Kingdom       65.11  yes       yes     51.63   \n",
      "\n",
      "     longitude  temperature  \n",
      "0        20.08    15.180000  \n",
      "1         1.52     7.481538  \n",
      "2        11.41     4.540000  \n",
      "3        14.02     6.910000  \n",
      "4        14.29     6.790000  \n",
      "..         ...          ...  \n",
      "208      -2.94    10.314494  \n",
      "209      -3.53    10.140000  \n",
      "210      -4.23     8.000000  \n",
      "211      -4.25     8.600000  \n",
      "212      -3.95     9.730000  \n",
      "\n",
      "[213 rows x 8 columns]\n"
     ]
    }
   ],
   "source": [
    "# filling in the missing temperature values \n",
    "data['temperature'] = data['temperature'].fillna(avg_temps)\n",
    "print(data)"
   ]
  },
  {
   "cell_type": "code",
   "execution_count": 13,
   "id": "6a080ba6-1b64-4d4f-9f63-76f2417badb1",
   "metadata": {},
   "outputs": [],
   "source": [
    "# writing the data to a csv file\n",
    "data.to_csv('eucities_temps_output.csv', index=False)"
   ]
  },
  {
   "cell_type": "markdown",
   "id": "e269eadf-3fdf-4f76-9782-3dcff5d98b87",
   "metadata": {},
   "source": [
    "#### Visualization: Part 1"
   ]
  },
  {
   "cell_type": "code",
   "execution_count": 14,
   "id": "77454d6f-d70d-4f80-9b17-2d1201f1ea56",
   "metadata": {},
   "outputs": [
    {
     "name": "stdout",
     "output_type": "stream",
     "text": [
      "EU   coastline\n",
      "no   no            16\n",
      "     yes           47\n",
      "yes  no            14\n",
      "     yes          136\n",
      "Name: city, dtype: int64\n"
     ]
    }
   ],
   "source": [
    "# getting cities belonging to each of the regions\n",
    "cities_by_region = data.groupby(['EU', 'coastline'])['city'].count()\n",
    "print(cities_by_region)"
   ]
  },
  {
   "cell_type": "code",
   "execution_count": 15,
   "id": "1578af0e-c105-4d4b-9b33-a21dfe78f344",
   "metadata": {},
   "outputs": [
    {
     "data": {
      "image/png": "[encoded data removed]",
      "text/plain": [
       "<Figure size 1000x600 with 1 Axes>"
      ]
     },
     "metadata": {},
     "output_type": "display_data"
    }
   ],
   "source": [
    "# plotting a bar chart\n",
    "cities_by_region.plot(kind='bar', figsize=(10, 6), color='skyblue')\n",
    "plt.title('Number of Cities in Each Region')\n",
    "plt.xlabel('Region (EU, Coastline)')\n",
    "plt.ylabel('Number of Cities')\n",
    "plt.xticks(rotation=45)\n",
    "\n",
    "plt.tight_layout()\n",
    "plt.show()"
   ]
  },
  {
   "cell_type": "markdown",
   "id": "9a18e82d-0cda-48c4-b82f-f0f7d0883fb2",
   "metadata": {},
   "source": [
    "#### Part 2"
   ]
  },
  {
   "cell_type": "code",
   "execution_count": null,
   "id": "e0e805d0-e092-4151-87d0-439c18b3d803",
   "metadata": {},
   "outputs": [],
   "source": [
    "import matplotlib.pyplot as plt\n",
    "import numpy as np\n",
    "\n",
    "countries = data['country'].unique()\n",
    "num_countries = len(countries)\n",
    "\n",
    "cmap = plt.get_cmap('nipy_spectral')\n",
    "colors = [cmap(i) for i in np.linspace(0, 1, 37)]\n",
    "\n",
    "plt.figure(figsize=(10, 6))\n",
    "\n",
    "for i, country in enumerate(countries):\n",
    "    subset = data[data['country'] == country]\n",
    "    plt.scatter(\n",
    "        subset['longitude'],\n",
    "        subset['latitude'],\n",
    "        label=country,\n",
    "        color=colors[i % 37], \n",
    "        s=40\n",
    "    )\n",
    "\n",
    "plt.title('City Locations by Country')\n",
    "plt.xlabel('Longitude')\n",
    "plt.ylabel('Latitude')\n",
    "plt.legend(bbox_to_anchor=(1.05, 1), loc='upper left', ncol=1, fontsize='small')\n",
    "plt.tight_layout()\n",
    "plt.show()"
   ]
  },
  {
   "cell_type": "markdown",
   "id": "9cca94b9-dd37-4d86-83bf-337b56ece48a",
   "metadata": {},
   "source": [
    "#### Part 3"
   ]
  },
  {
   "cell_type": "code",
   "execution_count": 17,
   "id": "61a7d789-0c06-46bf-bb0b-74735bf4435f",
   "metadata": {},
   "outputs": [
    {
     "data": {
      "image/png": "[encoded data removed]",
      "text/plain": [
       "<Figure size 1000x600 with 1 Axes>"
      ]
     },
     "metadata": {},
     "output_type": "display_data"
    }
   ],
   "source": [
    "unique_countries = data.drop_duplicates(subset='country')\n",
    "\n",
    "num_bins = 5\n",
    "\n",
    "counts, bin_edges = np.histogram(unique_countries['population'], bins=num_bins)\n",
    "\n",
    "bin_centers = (bin_edges[:-1] + bin_edges[1:]) / 2\n",
    "\n",
    "plt.figure(figsize=(10, 6))\n",
    "plt.bar(bin_centers, counts, width=np.diff(bin_edges), edgecolor='black', align='center')\n",
    "\n",
    "plt.xlabel('Population')\n",
    "plt.ylabel('Number of Countries')\n",
    "plt.title('Number of Countries by Population Group')\n",
    "\n",
    "plt.tight_layout()\n",
    "plt.show()"
   ]
  },
  {
   "cell_type": "markdown",
   "id": "91bf1162-acff-460f-84c5-370e7d649671",
   "metadata": {},
   "source": [
    "#### Part 4"
   ]
  },
  {
   "cell_type": "code",
   "execution_count": null,
   "id": "c7e4cef2-bc92-4726-a5d9-94f9464342db",
   "metadata": {},
   "outputs": [],
   "source": [
    "data['region'] = data['EU'] + ' & ' + data['coastline']\n",
    "\n",
    "region_types = data['region'].unique()\n",
    "\n",
    "fig, axes = plt.subplots(2, 2, figsize=(15, 10))\n",
    "axes = axes.flatten()\n",
    "\n",
    "for i, region in enumerate(region_types):\n",
    "    ax = axes[i]\n",
    "\n",
    "    eu_val, coast_val = region.split(' & ')\n",
    "\n",
    "    region_df = data[data['region'] == region].reset_index(drop=True)\n",
    "    n = len(region_df)\n",
    "    xticks = list(range(len(region_df)))\n",
    "\n",
    "    colors = region_df['temperature'].apply(\n",
    "        lambda temp: 'red' if temp > 10 else 'blue' if temp < 6 else 'orange'\n",
    "    )\n",
    "\n",
    "    ax.scatter(xticks, region_df['latitude'], c=colors)\n",
    "    ax.set_title(f\"EU: {eu_val}, Coastline: {coast_val}\")\n",
    "    ax.set_xlabel(\"City Index\")\n",
    "    ax.set_ylabel(\"Latitude\")\n",
    "    \n",
    "    if eu_val == 'yes' and coast_val == 'yes':\n",
    "        ticks = list(range(0, n, 5))\n",
    "    elif eu_val == 'no' and coast_val == 'yes':\n",
    "        ticks = list(range(0, n, 5))\n",
    "    else:\n",
    "        ticks = xticks\n",
    "\n",
    "    ax.set_xticks(ticks)\n",
    "    ax.set_xticklabels([str(t) for t in ticks], rotation=45)\n",
    "\n",
    "plt.tight_layout()\n",
    "plt.show()"
   ]
  }
 ],
 "metadata": {
  "kernelspec": {
   "display_name": "Python 3 (ipykernel)",
   "language": "python",
   "name": "python3"
  },
  "language_info": {
   "codemirror_mode": {
    "name": "ipython",
    "version": 3
   },
   "file_extension": ".py",
   "mimetype": "text/x-python",
   "name": "python",
   "nbconvert_exporter": "python",
   "pygments_lexer": "ipython3",
   "version": "3.12.7"
  }
 },
 "nbformat": 4,
 "nbformat_minor": 5
}
